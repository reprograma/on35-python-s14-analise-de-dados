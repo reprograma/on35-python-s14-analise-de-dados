{
 "cells": [
  {
   "cell_type": "markdown",
   "id": "daf030af-35da-4f4c-a4b0-5de2e6f34898",
   "metadata": {},
   "source": [
    "# Analisando os dados da Olist\n",
    "\n",
    "Para a nossa segunda parte da aula, iremos trabalhar em cima de uma base de dados disponibilizada pela Olist, uma empresa de e-commerce. Essa base de dados\n",
    "é composta por 9 tabelas, conforme o seguinte esquema:\n",
    "\n",
    "![](/material/img/banco_de_dados_olist.png)\n",
    "\n",
    "Essa base de dados é uma base menos \"limpa\" e é o que mais se aproxima da análise de dados do dia-a-dia de uma pessoa que trabalha com dados no mundo corporativo. Com essas tabelas, precisaremos demais manipulações de dados de forma mais minuciona que aquela que fizemos pela manhã. Vamos lá!"
   ]
  },
  {
   "cell_type": "markdown",
   "id": "6166142c-6155-4371-8376-5ab2aaad012b",
   "metadata": {},
   "source": [
    "Para ter acesso à base de dados, acesse: https://www.kaggle.com/datasets/olistbr/brazilian-ecommerce, mas usando esse link:\n",
    "\n",
    " https://drive.google.com/drive/folders/1RuibSOdMp-cR6niAdbH8bRIj3PO4EOlh?usp=sharing\n"
   ]
  },
  {
   "cell_type": "markdown",
   "id": "0d6cb4bd-0aa8-4183-bb9d-8c30cf928bf1",
   "metadata": {},
   "source": [
    "# Coleta dos Dados"
   ]
  },
  {
   "cell_type": "markdown",
   "id": "d22b6b80-f2cc-42c4-a3e1-fc77f92ecef2",
   "metadata": {},
   "source": [
    "Nossa base de dados da Olist é composta por 9 tabelas diferentes, nelas temos informações de:\n",
    "- pedidos (olist_orders_dataset)\n",
    "- itens dos pedidos (olist_order_items_dataset)\n",
    "- review dos usuários sobre os pedidos (olist_order_reviews_dataset)\n",
    "- detalhes de pagamento dos pedidos (olist_order_payments_dataset)\n",
    "- detalhes do consumidor que fez os pedidos (olist_customers_dataset)\n",
    "- detalhes de geolocalização do consumidor (olist_geolocation_dataset)\n",
    "- detalhes dos produtos (olist_products_dataset)\n",
    "- detalhes dos vendedores (olist_sellers_dataset)\n",
    "\n",
    "Nesta aula, iremos focar em três datasets, o de pedidos (olist_orders_dataset), itens do pedido (olist_order_items_dataset) e o de consumidor (olist_customers_dataset). Vamos lá!"
   ]
  },
  {
   "cell_type": "code",
   "execution_count": null,
   "id": "79fa9794-5c8b-4673-99ea-e126ddff12e5",
   "metadata": {},
   "outputs": [],
   "source": [
    "# Importa a biblioteca Pandas, que é usada para trabalhar com dados em tabelas.\n",
    "# 'import' é usado para trazer funcionalidades de outras bibliotecas para o seu código.\n",
    "# 'pandas' é o nome da biblioteca que vamos usar.\n",
    "# 'as pd' é um apelido que damos para a biblioteca, para que possamos usá-la mais facilmente, escrevendo 'pd' ao invés de 'pandas'.\n",
    "import pandas as pd"
   ]
  },
  {
   "cell_type": "code",
   "execution_count": null,
   "id": "6ad52907-0da5-4e5d-bbf4-077b1fb79773",
   "metadata": {},
   "outputs": [],
   "source": [
    "# Lê o arquivo CSV 'dados/olist_orders_dataset.csv' e cria um DataFrame chamado 'df_pedidos'.\n",
    "# 'pd.read_csv()' é uma função do Pandas que lê um arquivo CSV e o coloca em um DataFrame.\n",
    "# 'dados/olist_orders_dataset.csv' é o caminho para o arquivo CSV que queremos ler.\n",
    "# 'df_pedidos' é o nome que damos para o DataFrame que será criado.\n",
    "df_pedidos = pd.read_csv('dados/olist_orders_dataset.csv')\n",
    "\n",
    "# Mostra o DataFrame 'df_pedidos' na tela.\n",
    "# 'df_pedidos' é o nome do DataFrame que queremos mostrar.\n",
    "df_pedidos"
   ]
  },
  {
   "cell_type": "markdown",
   "id": "754c23dc-f03f-452a-b7d7-1b2a7f199fee",
   "metadata": {},
   "source": [
    "Para a tabela de pedidos, iremos utilizar as seguintes colunas:\n",
    "\n",
    "- **order_id**: Identificador do pedido\n",
    "- **customer_id**: Identificador do cliente. Essa coluna é importante pois será a nossa chave com a tabela de consumidor\n",
    "- **order_status**: Status do pedido\n",
    "- **order_purchase_timestamp**: timestamp do horário que a compra foi feita\n",
    "- **order_delivered_customer_date**: timestamp do horário que a compra foi entregue ao cliente"
   ]
  },
  {
   "cell_type": "code",
   "execution_count": null,
   "id": "61e589ac-aa0d-4e11-ad17-ea896414d9e6",
   "metadata": {},
   "outputs": [],
   "source": [
    "# Lê o arquivo CSV 'dados/olist_order_items_dataset.csv' e cria um DataFrame chamado 'df_itens_pedido'.\n",
    "# 'pd.read_csv()' é a função do Pandas que lê um arquivo CSV e o coloca em um DataFrame.\n",
    "# 'dados/olist_order_items_dataset.csv' é o caminho para o arquivo CSV que queremos ler.\n",
    "# 'df_itens_pedido' é o nome que damos para o DataFrame que será criado.\n",
    "df_itens_pedido = pd.read_csv('dados/olist_order_items_dataset.csv')\n",
    "\n",
    "# Mostra o DataFrame 'df_itens_pedido' na tela.\n",
    "# 'df_itens_pedido' é o nome do DataFrame que queremos mostrar.\n",
    "df_itens_pedido"
   ]
  },
  {
   "cell_type": "code",
   "execution_count": null,
   "metadata": {},
   "outputs": [],
   "source": [
    "# Junta os DataFrames 'df_pedidos' e 'df_itens_pedido' usando a coluna 'order_id' como chave.\n",
    "# 'pd.merge()' é uma função do Pandas que junta dois DataFrames.\n",
    "# 'df_pedidos' e 'df_itens_pedido' são os nomes dos DataFrames que queremos juntar.\n",
    "# 'on=['order_id']' indica a coluna que será usada como chave para a junção.\n",
    "# 'how='inner'' significa que só as linhas que possuem 'order_id' em ambos os DataFrames serão incluídas.\n",
    "# O resultado é armazenado em um novo DataFrame chamado 'df_olist_pedidos'.\n",
    "df_olist_pedidos = pd.merge(df_pedidos, df_itens_pedido, on=['order_id'], how='inner')\n",
    "\n",
    "# Mostra o DataFrame 'df_olist_pedidos' na tela.\n",
    "# 'df_olist_pedidos' é o nome do DataFrame que queremos mostrar.\n",
    "df_olist_pedidos"
   ]
  },
  {
   "cell_type": "markdown",
   "id": "c590d71e-f8ad-40c3-ba32-79da2ff7a3bb",
   "metadata": {},
   "source": [
    "Para a tabela de itens dos pedidos, iremos utilizar as seguintes colunas:\n",
    "\n",
    "- **order_id**: Identificador do pedido. Será a nossa chave com a tabela de pedidos\n",
    "- **product_id**: Identificador do produto\n",
    "- **seller_id**: Identificador do vendedor\n",
    "- **shipping_limit_date**: timestamp limite para a entrega do pedido\n",
    "- **price**: valor do pedido\n",
    "- **freight_value**: valor do frete"
   ]
  },
  {
   "cell_type": "code",
   "execution_count": null,
   "id": "5e543be1-db9a-4ef4-a2bf-70e9e4fbbcfd",
   "metadata": {},
   "outputs": [],
   "source": [
    "# Lê o arquivo CSV 'dados/olist_customers_dataset.csv' e cria um DataFrame chamado 'df_consumidor'.\n",
    "# 'pd.read_csv()' é a função do Pandas que lê um arquivo CSV e o coloca em um DataFrame.\n",
    "# 'dados/olist_customers_dataset.csv' é o caminho para o arquivo CSV que queremos ler.\n",
    "# 'df_consumidor' é o nome que damos para o DataFrame que será criado.\n",
    "df_consumidor = pd.read_csv('dados/olist_customers_dataset.csv')\n",
    "\n",
    "# Mostra o DataFrame 'df_consumidor' na tela.\n",
    "# 'df_consumidor' é o nome do DataFrame que queremos mostrar.\n",
    "df_consumidor"
   ]
  },
  {
   "cell_type": "code",
   "execution_count": null,
   "metadata": {},
   "outputs": [],
   "source": [
    "# Junta os DataFrames 'df_olist_pedidos' e 'df_consumidor' usando a coluna 'customer_id' como chave.\n",
    "# 'pd.merge()' é uma função do Pandas que junta dois DataFrames.\n",
    "# 'df_olist_pedidos' e 'df_consumidor' são os nomes dos DataFrames que queremos juntar.\n",
    "# 'on=['customer_id']' indica a coluna que será usada como chave para a junção.\n",
    "# 'how='inner'' significa que só as linhas que possuem 'customer_id' em ambos os DataFrames serão incluídas.\n",
    "# O resultado é armazenado em um novo DataFrame chamado 'df_olist_pedidos_uf'.\n",
    "df_olist_pedidos_uf = pd.merge(df_olist_pedidos, df_consumidor, on=['customer_id'], how='inner')\n",
    "\n",
    "# Mostra o DataFrame 'df_olist_pedidos_uf' na tela.\n",
    "# 'df_olist_pedidos_uf' é o nome do DataFrame que queremos mostrar.\n",
    "df_olist_pedidos_uf"
   ]
  },
  {
   "cell_type": "markdown",
   "id": "b1999b26-8dcd-48b3-978f-6be4ea9afd76",
   "metadata": {},
   "source": [
    "Para a tabela de consumidor, iremos utilizar as seguintes colunas:\n",
    "\n",
    "- **customer_id**: Identificador do cliente. Essa coluna é importante pois será a nossa chave com a tabela de pedidos. \n",
    "- **customer_state**: Estado\n",
    "- **customer_city**: Cidade"
   ]
  },
  {
   "cell_type": "markdown",
   "id": "8a05e8ee-7c32-4cda-a1bc-4759d45eec00",
   "metadata": {},
   "source": [
    "# Objetivo da nossa Análise Exploratória:\n",
    "\n",
    "Lembra que pela manhã comentamos a necessidade de estabelecer nossas perguntas para direcionar nossas análises? Para essa segunda parte da aula, buscaremos responder perguntas simples com base nessas 3 tabelas:\n",
    "\n",
    "- Qual a frequência de compra dos clientes na plataforma da Olist no ano de 2017?\n",
    "- Qual é o valor médio das compras desses clientes?  \n",
    "- O número de vendas varia de acordo com a época do ano?\n",
    "- O tempo limite de entrega das compras está sendo respeitado?"
   ]
  },
  {
   "cell_type": "markdown",
   "id": "05695ac8-33d8-4093-9a9e-ef59f8dc953d",
   "metadata": {},
   "source": [
    "# Limpando os dados da Olist"
   ]
  },
  {
   "cell_type": "markdown",
   "id": "7a19fa15-983d-46da-b4af-59b5315b88c8",
   "metadata": {},
   "source": [
    "## Pedidos"
   ]
  },
  {
   "cell_type": "code",
   "execution_count": null,
   "id": "a95b133f-bab8-46d0-9e60-eecfef5f1420",
   "metadata": {},
   "outputs": [],
   "source": [
    "# Vamos entender um pouquinho melhor dos nossos dados\n",
    "\n",
    "# Mostra informações sobre o DataFrame 'df_pedidos', como o tipo de dados de cada coluna e se há valores faltantes.\n",
    "# 'df_pedidos.info()' é uma função do Pandas que mostra informações sobre um DataFrame.\n",
    "df_pedidos.info()"
   ]
  },
  {
   "cell_type": "markdown",
   "id": "b67d45a5-7c4f-4ae0-9913-323025f57ff8",
   "metadata": {},
   "source": [
    "Estamos lidando com um dataset relativamente grande, com quase 100.000 linhas. Temos dados nulos nas colunas de data,\n",
    "o que faz sentido, pois nem todo o pedido realizado foi devidamente pago e finalizado, então aqueles pedidos que por algum motivo não foram finalizados. Por isso, algumas informações não estarão disponíveis. Por exemplo: um pedido que teve o pagamento negado, não terá dados de entrega. "
   ]
  },
  {
   "cell_type": "code",
   "execution_count": null,
   "id": "475bdd28-d85e-4c97-8512-ceb67a2f179a",
   "metadata": {},
   "outputs": [],
   "source": [
    "# Vamos começar nossa limpeza filtrando somente as colunas que desejamos utilizar\n",
    "\n",
    "# Cria uma lista chamada 'columns_drop' com os nomes das colunas que serão removidas do DataFrame 'df_pedidos'.\n",
    "# 'columns_drop' é o nome da lista que criamos.\n",
    "# '=['order_approved_at', 'order_delivered_carrier_date', 'order_estimated_delivery_date']' são os nomes das colunas que queremos remover.\n",
    "columns_drop = ['order_approved_at', 'order_delivered_carrier_date', 'order_estimated_delivery_date']\n",
    "\n",
    "# Remove as colunas da lista 'columns_drop' do DataFrame 'df_pedidos'.\n",
    "# 'df_pedidos.drop()' é uma função do Pandas que remove colunas de um DataFrame.\n",
    "# 'columns_drop' é o nome da lista com os nomes das colunas que queremos remover.\n",
    "# 'axis=1' indica que queremos remover colunas.\n",
    "df_pedidos = df_pedidos.drop(columns_drop, axis=1)\n",
    "\n",
    "# Mostra o DataFrame 'df_pedidos' na tela, agora sem as colunas removidas.\n",
    "# 'df_pedidos' é o nome do DataFrame que queremos mostrar.\n",
    "df_pedidos"
   ]
  },
  {
   "cell_type": "code",
   "execution_count": null,
   "id": "6b0bc2c0-ca98-4173-b0b7-89ae09ea7ec9",
   "metadata": {},
   "outputs": [],
   "source": [
    "# Agora iremos filtrar somente aqueles pedidos que foram finalizados, mas antes é importante entender todos os status disponíveis que temos na base\n",
    "# Mostra os valores únicos da coluna 'order_status' do DataFrame 'df_pedidos'.\n",
    "# 'df_pedidos['order_status'].unique()' é uma função do Pandas que mostra os valores únicos de uma coluna.\n",
    "# 'order_status' é o nome da coluna que queremos ver os valores únicos.\n",
    "df_pedidos['order_status'].unique()"
   ]
  },
  {
   "cell_type": "code",
   "execution_count": null,
   "id": "063dac3d-200c-4978-9987-11fe2ea8f556",
   "metadata": {},
   "outputs": [],
   "source": [
    "# filtrando apenas os pedidos que foram entregues\n",
    "# Filtra o DataFrame 'df_pedidos' para incluir apenas as linhas onde a coluna 'order_status' é igual a 'delivered'.\n",
    "# 'df_pedidos.loc[]' é uma função do Pandas que filtra um DataFrame.\n",
    "# 'df_pedidos['order_status'] == 'delivered'' é uma condição que filtra as linhas onde a coluna 'order_status' é igual a 'delivered'.\n",
    "df_pedidos = df_pedidos.loc[df_pedidos['order_status'] == 'delivered']\n",
    "\n",
    "# Mostra o DataFrame 'df_pedidos' na tela, agora com apenas os pedidos entregues.\n",
    "# 'df_pedidos' é o nome do DataFrame que queremos mostrar.\n",
    "df_pedidos"
   ]
  },
  {
   "cell_type": "code",
   "execution_count": null,
   "id": "d1621bab-dfbf-49d6-bef1-1eb21c69feb3",
   "metadata": {},
   "outputs": [],
   "source": [
    "# Filtrando somente pedidos finalizados, percebemos que perdemos um número razoável de linhas, cerca de 3 mil.\n",
    "# Agora, com nosso dataset filtrado, precisamos resetar o seu index:\n",
    "# Reseta o índice do DataFrame 'df_pedidos', removendo o índice antigo.\n",
    "# 'df_pedidos.reset_index()' é uma função do Pandas que reseta o índice de um DataFrame.\n",
    "# 'drop=True' indica que o índice antigo deve ser removido.\n",
    "df_pedidos = df_pedidos.reset_index(drop=True)\n",
    "\n",
    "# Mostra o DataFrame 'df_pedidos' na tela, com o novo índice.\n",
    "# 'df_pedidos' é o nome do DataFrame que queremos mostrar.\n",
    "df_pedidos"
   ]
  },
  {
   "cell_type": "code",
   "execution_count": null,
   "metadata": {},
   "outputs": [],
   "source": [
    "# Mostra informações sobre o DataFrame 'df_pedidos', agora com o índice resetado.\n",
    "# 'df_pedidos.info()' é uma função do Pandas que mostra informações sobre um DataFrame.\n",
    "df_pedidos.info()"
   ]
  },
  {
   "cell_type": "code",
   "execution_count": null,
   "id": "5ced8fac-cd8c-4f57-925f-2ea1a596b0ee",
   "metadata": {},
   "outputs": [],
   "source": [
    "# Para fecharmos a limpeza dessa tabela, precisamos criar uma coluna de mês! Uma das perguntas que precisamos responder é se existe sazonalidade\n",
    "# nas vendas, então, criar uma coluna de mês irá facilitar bastante nosso trabalho na etapa de análise:\n",
    "\n",
    "# Vamos transformar nossas colunas de data (que estão como string) em data: \n",
    "# Converte as colunas 'order_purchase_timestamp' e 'order_delivered_customer_date' para o tipo de dados 'datetime'.\n",
    "# 'pd.to_datetime()' é uma função do Pandas que converte uma coluna para o tipo de dados 'datetime'.\n",
    "# 'order_purchase_timestamp' e 'order_delivered_customer_date' são os nomes das colunas que queremos converter.\n",
    "df_pedidos['order_purchase_timestamp'] = pd.to_datetime(df_pedidos['order_purchase_timestamp'])\n",
    "df_pedidos['order_delivered_customer_date'] = pd.to_datetime(df_pedidos['order_delivered_customer_date'])\n",
    "\n",
    "# Agora sim, vamos criar uma coluna de mês!\n",
    "# Cria uma nova coluna chamada 'reference_month' no DataFrame 'df_pedidos', com o mês e ano de cada compra, no formato 'YYYY-MM-01'.\n",
    "# 'df_pedidos['order_purchase_timestamp'].dt.strftime('%Y-%m-01')' extrai o mês e ano de cada data na coluna 'order_purchase_timestamp'.\n",
    "# '%Y-%m-01' é um formato de data que especifica o ano, o mês e o dia 1 do mês.\n",
    "# 'reference_month' é o nome da nova coluna que criamos.\n",
    "df_pedidos['reference_month'] = df_pedidos['order_purchase_timestamp'].dt.strftime('%Y-%m-01')\n",
    "\n",
    "# Mostra o DataFrame 'df_pedidos' na tela, com a nova coluna 'reference_month'.\n",
    "# 'df_pedidos' é o nome do DataFrame que queremos mostrar.\n",
    "df_pedidos"
   ]
  },
  {
   "cell_type": "markdown",
   "id": "58bcc966-8aff-432e-a58f-32dc42606df8",
   "metadata": {},
   "source": [
    "## Itens do Pedido"
   ]
  },
  {
   "cell_type": "code",
   "execution_count": null,
   "id": "a18a5a54-4c16-4d0c-b4f6-c36d45412f56",
   "metadata": {},
   "outputs": [],
   "source": [
    "# Vamos entender um pouquinho melhor dos nossos dados\n",
    "# Mostra informações sobre o DataFrame 'df_itens_pedido', como o tipo de dados de cada coluna e se há valores faltantes.\n",
    "# 'df_itens_pedido.info()' é uma função do Pandas que mostra informações sobre um DataFrame.\n",
    "df_itens_pedido.info()"
   ]
  },
  {
   "cell_type": "markdown",
   "id": "f21d10d2-2260-4dfa-a0f2-1b241d59fb7a",
   "metadata": {},
   "source": [
    "Estamos lidando com um dataset um pouco maior que o de pedidos, o que faz sentido, pois nossa informação aqui está a nível de item, e um pedido pode ter 1 ou mais itens. Não temos dados nulos nessa tabela, mas isso não significa que aqui constam somente pedidos confirmados, tá? Precisaremos filtrá-los em breve. "
   ]
  },
  {
   "cell_type": "markdown",
   "id": "b6ea3729-d5d3-4dc9-97d0-6433df814526",
   "metadata": {},
   "source": [
    "## Consumidor"
   ]
  },
  {
   "cell_type": "code",
   "execution_count": null,
   "id": "9e43c970-3417-4b9c-8d82-effe9c67d7b4",
   "metadata": {},
   "outputs": [],
   "source": [
    "# Vamos entender um pouquinho melhor dos nossos dados\n",
    "# Mostra informações sobre o DataFrame 'df_consumidor', como o tipo de dados de cada coluna e se há valores faltantes.\n",
    "# 'df_consumidor.info()' é uma função do Pandas que mostra informações sobre um DataFrame.\n",
    "df_consumidor.info()"
   ]
  },
  {
   "cell_type": "code",
   "execution_count": null,
   "id": "858fb618-8699-440a-af35-15d516aaed59",
   "metadata": {},
   "outputs": [],
   "source": [
    "# Remove a coluna 'customer_unique_id' do DataFrame 'df_consumidor'.\n",
    "# 'df_consumidor.drop()' é uma função do Pandas que remove colunas de um DataFrame.\n",
    "# 'customer_unique_id' é o nome da coluna que queremos remover.\n",
    "# 'axis=1' indica que queremos remover colunas.\n",
    "df_consumidor = df_consumidor.drop('customer_unique_id', axis=1)\n",
    "\n",
    "# Mostra o DataFrame 'df_consumidor' na tela, agora sem a coluna 'customer_unique_id'.\n",
    "# 'df_consumidor' é o nome do DataFrame que queremos mostrar.\n",
    "df_consumidor"
   ]
  },
  {
   "cell_type": "markdown",
   "id": "83acbf5d-eec3-4d6c-a90f-41eef474ef22",
   "metadata": {},
   "source": [
    "## Juntando os três datasets"
   ]
  },
  {
   "cell_type": "markdown",
   "id": "b6863202-b92a-4798-aa12-115fad6e1bfe",
   "metadata": {},
   "source": [
    "Agora que fizemos a limpeza dos nossos três datasets, chegou a hora de juntarmos de acordo com a coluna em comum em cada um deles. Um ponto importante \n",
    "aqui é que queremos manter as informações que correspondem somente à pedidos **finalizados**. \n",
    "\n",
    "Para unir os 3 datasets usaremos a função merge(), precisamos entender qual é a coluna em comum entre os 3: no nosso caso, serão as colunas customer_id e order_id. \n",
    "\n"
   ]
  },
  {
   "cell_type": "code",
   "execution_count": null,
   "id": "49e98e5f-9663-4861-8995-16df74efcefa",
   "metadata": {},
   "outputs": [],
   "source": [
    "# Por padrão é realizado o merge dos dados com o inner join\n",
    "# Jutando os df pedidos e itens de pedidos\n",
    "\n",
    "# Junta os DataFrames 'df_pedidos', 'df_itens_pedido' e 'df_consumidor' usando as colunas 'order_id' e 'customer_id' como chaves.\n",
    "# 'pd.merge()' é uma função do Pandas que junta dois DataFrames.\n",
    "# 'df_pedidos', 'df_itens_pedido' e 'df_consumidor' são os nomes dos DataFrames que queremos juntar.\n",
    "# 'on=['order_id']' e 'on=['customer_id']' indicam as colunas que serão usadas como chave para a junção.\n",
    "# 'how='inner'' significa que só as linhas que possuem 'order_id' e 'customer_id' em todos os três DataFrames serão incluídas.\n",
    "# O resultado é armazenado em um novo DataFrame chamado 'df_olist'.\n",
    "df_olist = pd.merge(df_pedidos, df_itens_pedido, on='order_id', how='inner')\n",
    "df_olist = pd.merge(df_olist, df_consumidor, on='customer_id', how='inner')\n",
    "\n",
    "# Mostra o DataFrame 'df_olist' na tela.\n",
    "# 'df_olist' é o nome do DataFrame que queremos mostrar.\n",
    "df_olist"
   ]
  },
  {
   "cell_type": "code",
   "execution_count": null,
   "id": "aedd74e3-c64f-4c07-af8e-f18267de5e07",
   "metadata": {},
   "outputs": [],
   "source": [
    "# Exportando a base final (p/ encaminhar para as alunas)\n",
    "\n",
    "# Salva o DataFrame 'df_olist' em um arquivo CSV chamado 'base_final_s14_olist.csv', sem incluir o índice.\n",
    "# 'df_olist.to_csv()' é uma função do Pandas que salva um DataFrame em um arquivo CSV.\n",
    "# 'base_final_s14_olist.csv' é o nome do arquivo que queremos criar.\n",
    "# 'index=False' indica que o índice do DataFrame não deve ser salvo no arquivo.\n",
    "df_olist.to_csv('base_final_s14_olist.csv', index=False)"
   ]
  },
  {
   "cell_type": "markdown",
   "id": "34312ae8-ce3b-45f7-8756-c98b6f18e10a",
   "metadata": {},
   "source": [
    "# Analisando os dados\n",
    "\n",
    "Agora chegou a hora de respondermos as perguntas que estipulamos no começo dessa análise:\n",
    "- Qual é o valor médio das compras desses clientes?  \n",
    "- O número de vendas varia de acordo com a época do ano?\n",
    "- O tempo limite de entrega das compras está sendo respeitado?"
   ]
  },
  {
   "cell_type": "markdown",
   "id": "1a59d2a3-879f-49d5-9082-027d4f8dedb6",
   "metadata": {},
   "source": [
    "### Qual é o valor médio das compras desses clientes? E qual o valor médio pago em frete?\n"
   ]
  },
  {
   "cell_type": "code",
   "execution_count": null,
   "id": "e54ccf66-1283-4bd0-a256-1127cb89d297",
   "metadata": {},
   "outputs": [],
   "source": [
    "# Calcula estatísticas descritivas para o DataFrame 'df_olist', incluindo média, desvio padrão, mínimo, máximo, etc.\n",
    "# 'df_olist.describe()' é uma função do Pandas que calcula estatísticas descritivas para um DataFrame.\n",
    "# '.T' transpõe o resultado, mostrando as estatísticas por coluna.\n",
    "df_olist.describe().T"
   ]
  },
  {
   "cell_type": "code",
   "execution_count": null,
   "id": "e28ad416",
   "metadata": {},
   "outputs": [],
   "source": [
    "# Calcula a média dos valores da coluna 'price' do DataFrame 'df_olist'.\n",
    "# 'df_olist['price'].mean()' é uma função do Pandas que calcula a média de uma coluna.\n",
    "# 'price' é o nome da coluna que queremos calcular a média.\n",
    "df_olist['price'].mean()"
   ]
  },
  {
   "cell_type": "markdown",
   "id": "c92eac96-de34-4abc-84e7-dd5c39d94072",
   "metadata": {},
   "source": [
    "Apesar de termos pedidos com valores bem altos, como o caso do pedido no valor de R$ 6735, a média dos pedidos está cerca de 120 reais. O frete segue o mesmo padrão, sendo cerca de 10% do valor do pedido. \n",
    "\n",
    "Fazendo uma análise adicional aqui, pela coluna order_item_id, conseguimos observar a quantidade de itens que temos dentro de um pedido. A média de cada um desses pedidos é ter cerca de 1,2 itens. Sendo o seu máximo, um pedido que possui 21 itens iguais. "
   ]
  },
  {
   "cell_type": "markdown",
   "id": "bfabf48f-563b-4a9d-bef2-59bf7b45f028",
   "metadata": {},
   "source": [
    "### O número de vendas varia de acordo com a época do ano?\n",
    "\n",
    "![](/material/img/calendario-sazonalidades.jpg)\n",
    "Fonte: https://pagar.me/blog/como-lidar-com-a-sazonalidade-de-vendas-no-e-commerce/\n",
    "\n",
    "\n",
    "As sazonalidades podem ser positivas ou negativas, e essa imagem pode nos ajudar a interpretar nossos dados."
   ]
  },
  {
   "cell_type": "code",
   "execution_count": null,
   "id": "b922c099-89fd-40d8-9330-b8b332ba11e3",
   "metadata": {},
   "outputs": [],
   "source": [
    "# Agora, vamos fazer uma análise de sazonalidade. Será que o número de vendas aumenta ou diminui de acordo com a época do ano?\n",
    "\n",
    "# Agrupa o DataFrame 'df_olist' por 'reference_month' e conta o número único de 'order_id' em cada grupo.\n",
    "# 'df_olist.groupby()' é uma função do Pandas que agrupa um DataFrame por uma coluna.\n",
    "# 'reference_month' é o nome da coluna que queremos agrupar.\n",
    "# 'agg({'order_id': 'nunique'})' calcula o número único de valores na coluna 'order_id' para cada grupo.\n",
    "# O resultado é armazenado em um novo DataFrame chamado 'df_sazonalidade'.\n",
    "df_sazonalidade = df_olist.groupby('reference_month').agg({'order_id': 'nunique'})\n",
    "\n",
    "# Ordena o DataFrame 'df_sazonalidade' em ordem decrescente pelo número de 'order_id'.\n",
    "# 'df_sazonalidade.sort_values()' é uma função do Pandas que ordena um DataFrame por uma coluna.\n",
    "# 'by='order_id'' indica a coluna que queremos ordenar.\n",
    "# 'ascending=False' indica que queremos ordenar em ordem decrescente.\n",
    "df_sazonalidade.sort_values(by='order_id', ascending=False)"
   ]
  },
  {
   "cell_type": "markdown",
   "id": "b15bb513-593a-4a37-9737-4c9de881523e",
   "metadata": {},
   "source": [
    "### O tempo limite de entrega das compras está sendo respeitado?\n"
   ]
  },
  {
   "cell_type": "code",
   "execution_count": null,
   "id": "a8b7d4a6-f899-4019-816a-97584718318b",
   "metadata": {},
   "outputs": [],
   "source": [
    "# Para essa análise, iremos criar uma classificação para o status do frete, sendo: ATRASADO, ADIANTADO e DENTRO DO ESPERADO, e então iremos observar a proporção\n",
    "# dos pedidos para cada status.\n",
    "\n",
    "# Converte as colunas 'order_purchase_timestamp' e 'order_delivered_customer_date' para o tipo de dados 'datetime'.\n",
    "# 'pd.to_datetime()' é uma função do Pandas que converte uma coluna para o tipo de dados 'datetime'.\n",
    "# 'order_purchase_timestamp' e 'order_delivered_customer_date' são os nomes das colunas que queremos converter.\n",
    "df_olist['order_purchase_timestamp'] = pd.to_datetime(df_olist['order_purchase_timestamp'])\n",
    "df_olist['order_delivered_customer_date'] = pd.to_datetime(df_olist['order_delivered_customer_date'])\n",
    "\n",
    "# Cria uma nova coluna chamada 'order_delivered_date' no DataFrame 'df_olist', com a data de entrega do pedido.\n",
    "# 'df_olist['order_delivered_customer_date'].dt.date' extrai a data da coluna 'order_delivered_customer_date'.\n",
    "# 'order_delivered_date' é o nome da nova coluna que criamos.\n",
    "df_olist['order_delivered_date'] = df_olist['order_delivered_customer_date'].dt.date\n",
    "\n",
    "# Cria uma nova coluna chamada 'shipping_limit_dt' no DataFrame 'df_olist', com a data limite de entrega do pedido.\n",
    "# 'pd.to_datetime()' é uma função do Pandas que converte uma coluna para o tipo de dados 'datetime'.\n",
    "# 'shipping_limit_date' é o nome da coluna que queremos converter.\n",
    "# 'dt.date' extrai a data da coluna 'shipping_limit_date'.\n",
    "# 'shipping_limit_dt' é o nome da nova coluna que criamos.\n",
    "df_olist['shipping_limit_dt'] = pd.to_datetime(df_olist['shipping_limit_date']).dt.date\n",
    "\n",
    "# Define condições para classificar o status de entrega em 'ATRASADO', 'ADIANTADO' e 'DENTRO DO ESPERADO'.\n",
    "# 'df_olist.loc[]' é uma função do Pandas que filtra um DataFrame e define novos valores para as linhas filtradas.\n",
    "# 'df_olist['order_delivered_date'] > df_olist['shipping_limit_dt']' é uma condição que filtra as linhas onde a data de entrega é maior que a data limite de entrega.\n",
    "# 'status_entrega' é o nome da coluna que queremos definir o valor.\n",
    "# 'ATRASADO' é o valor que queremos definir para a coluna 'status_entrega'.\n",
    "df_olist.loc[df_olist['order_delivered_date'] > df_olist['shipping_limit_dt'], 'status_entrega'] = 'ATRASADO'\n",
    "df_olist.loc[df_olist['order_delivered_date'] < df_olist['shipping_limit_dt'], 'status_entrega'] = 'ADIANTADO'\n",
    "df_olist.loc[df_olist['order_delivered_date'] == df_olist['shipping_limit_dt'], 'status_entrega'] = 'DENTRO DO ESPERADO'\n",
    "\n",
    "# Mostra o DataFrame 'df_olist' na tela, com a nova coluna 'status_entrega'.\n",
    "# 'df_olist' é o nome do DataFrame que queremos mostrar.\n",
    "df_olist"
   ]
  },
  {
   "cell_type": "code",
   "execution_count": null,
   "id": "32ab7765-704d-4e23-9dee-733b6fc6f064",
   "metadata": {},
   "outputs": [],
   "source": [
    "# Conta o número de ocorrências de cada valor na coluna 'status_entrega' do DataFrame 'df_olist'.\n",
    "# 'df_olist[\"status_entrega\"].value_counts()' é uma função do Pandas que conta o número de ocorrências de cada valor em uma coluna.\n",
    "# 'normalize=True' calcula a proporção de cada valor.\n",
    "df_olist[\"status_entrega\"].value_counts(normalize=True)\n",
    "\n",
    "# Ou seja, cerca de 72% dos pedidos chegam atrasados na casa dos consumidores. É interessante entender o padrão aqui, esse status se mantém de acordo com \n",
    "# a cidade? O quanto esse status mudaria se olhassemos para uma cidade grande tipo São Paulo? \n"
   ]
  }
 ],
 "metadata": {
  "kernelspec": {
   "display_name": "Python 3 (ipykernel)",
   "language": "python",
   "name": "python3"
  },
  "language_info": {
   "codemirror_mode": {
    "name": "ipython",
    "version": 3
   },
   "file_extension": ".py",
   "mimetype": "text/x-python",
   "name": "python",
   "nbconvert_exporter": "python",
   "pygments_lexer": "ipython3",
   "version": "3.10.0"
  }
 },
 "nbformat": 4,
 "nbformat_minor": 5
}
