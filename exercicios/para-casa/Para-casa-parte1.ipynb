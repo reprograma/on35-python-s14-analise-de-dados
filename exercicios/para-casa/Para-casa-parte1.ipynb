{
 "cells": [
  {
   "cell_type": "markdown",
   "metadata": {},
   "source": [
    "# Exercício de Casa 🏠  - Parte 1: Netflix\n",
    "\n",
    "# Agora é sua vez de colocar a mão na massa! Responda as seguintes perguntas sobre os dados:\n",
    "\n",
    "#1️⃣ Quantos usuários utilizam a Netflix pelo Tablet? 2️⃣Qual é a representatividade (em %) do sistema operacional(device) mais utilizado para assistir Netflix?\n",
    "#3️⃣ Crie visualizações que responda as seguintes perguntas: \n",
    "# Qual é o sistema operacional(device) mais usado para cada faixa etária? \n",
    "# Existe algum padrão? O tipo de aparelho muda de acordo com o grupo de idade?**\n",
    "# No Brasil, qual é o sistema operacional mais utilizado?"
   ]
  },
  {
   "cell_type": "markdown",
   "metadata": {},
   "source": [
    "# Professora Camila, abaixo segue: \n",
    "\n",
    "#**Visualizações utlizando as bibliotecas pandas e jupiter.**\n",
    "\n",
    "#**Respostas registradas em  markdown e dataframe**"
   ]
  },
  {
   "cell_type": "code",
   "execution_count": 4,
   "metadata": {},
   "outputs": [],
   "source": [
    "# importando biblioteca pandas \n",
    "import pandas as pd"
   ]
  },
  {
   "cell_type": "code",
   "execution_count": 5,
   "metadata": {},
   "outputs": [
    {
     "data": {
      "text/html": [
       "<div>\n",
       "<style scoped>\n",
       "    .dataframe tbody tr th:only-of-type {\n",
       "        vertical-align: middle;\n",
       "    }\n",
       "\n",
       "    .dataframe tbody tr th {\n",
       "        vertical-align: top;\n",
       "    }\n",
       "\n",
       "    .dataframe thead th {\n",
       "        text-align: right;\n",
       "    }\n",
       "</style>\n",
       "<table border=\"1\" class=\"dataframe\">\n",
       "  <thead>\n",
       "    <tr style=\"text-align: right;\">\n",
       "      <th></th>\n",
       "      <th>User ID</th>\n",
       "      <th>Subscription Type</th>\n",
       "      <th>Monthly Revenue</th>\n",
       "      <th>Join Date</th>\n",
       "      <th>Last Payment Date</th>\n",
       "      <th>Country</th>\n",
       "      <th>Age</th>\n",
       "      <th>Gender</th>\n",
       "      <th>Device</th>\n",
       "      <th>Plan Duration</th>\n",
       "    </tr>\n",
       "  </thead>\n",
       "  <tbody>\n",
       "    <tr>\n",
       "      <th>0</th>\n",
       "      <td>1</td>\n",
       "      <td>Basic</td>\n",
       "      <td>10</td>\n",
       "      <td>15-01-22</td>\n",
       "      <td>10-06-23</td>\n",
       "      <td>United States</td>\n",
       "      <td>28</td>\n",
       "      <td>Male</td>\n",
       "      <td>Smartphone</td>\n",
       "      <td>1 Month</td>\n",
       "    </tr>\n",
       "    <tr>\n",
       "      <th>1</th>\n",
       "      <td>2</td>\n",
       "      <td>Premium</td>\n",
       "      <td>15</td>\n",
       "      <td>05-09-21</td>\n",
       "      <td>22-06-23</td>\n",
       "      <td>Canada</td>\n",
       "      <td>35</td>\n",
       "      <td>Female</td>\n",
       "      <td>Tablet</td>\n",
       "      <td>1 Month</td>\n",
       "    </tr>\n",
       "    <tr>\n",
       "      <th>2</th>\n",
       "      <td>3</td>\n",
       "      <td>Standard</td>\n",
       "      <td>12</td>\n",
       "      <td>28-02-23</td>\n",
       "      <td>27-06-23</td>\n",
       "      <td>United Kingdom</td>\n",
       "      <td>42</td>\n",
       "      <td>Male</td>\n",
       "      <td>Smart TV</td>\n",
       "      <td>1 Month</td>\n",
       "    </tr>\n",
       "    <tr>\n",
       "      <th>3</th>\n",
       "      <td>4</td>\n",
       "      <td>Standard</td>\n",
       "      <td>12</td>\n",
       "      <td>10-07-22</td>\n",
       "      <td>26-06-23</td>\n",
       "      <td>Australia</td>\n",
       "      <td>51</td>\n",
       "      <td>Female</td>\n",
       "      <td>Laptop</td>\n",
       "      <td>1 Month</td>\n",
       "    </tr>\n",
       "    <tr>\n",
       "      <th>4</th>\n",
       "      <td>5</td>\n",
       "      <td>Basic</td>\n",
       "      <td>10</td>\n",
       "      <td>01-05-23</td>\n",
       "      <td>28-06-23</td>\n",
       "      <td>Germany</td>\n",
       "      <td>33</td>\n",
       "      <td>Male</td>\n",
       "      <td>Smartphone</td>\n",
       "      <td>1 Month</td>\n",
       "    </tr>\n",
       "    <tr>\n",
       "      <th>...</th>\n",
       "      <td>...</td>\n",
       "      <td>...</td>\n",
       "      <td>...</td>\n",
       "      <td>...</td>\n",
       "      <td>...</td>\n",
       "      <td>...</td>\n",
       "      <td>...</td>\n",
       "      <td>...</td>\n",
       "      <td>...</td>\n",
       "      <td>...</td>\n",
       "    </tr>\n",
       "    <tr>\n",
       "      <th>2495</th>\n",
       "      <td>2496</td>\n",
       "      <td>Premium</td>\n",
       "      <td>14</td>\n",
       "      <td>25-07-22</td>\n",
       "      <td>12-07-23</td>\n",
       "      <td>Spain</td>\n",
       "      <td>28</td>\n",
       "      <td>Female</td>\n",
       "      <td>Smart TV</td>\n",
       "      <td>1 Month</td>\n",
       "    </tr>\n",
       "    <tr>\n",
       "      <th>2496</th>\n",
       "      <td>2497</td>\n",
       "      <td>Basic</td>\n",
       "      <td>15</td>\n",
       "      <td>04-08-22</td>\n",
       "      <td>14-07-23</td>\n",
       "      <td>Spain</td>\n",
       "      <td>33</td>\n",
       "      <td>Female</td>\n",
       "      <td>Smart TV</td>\n",
       "      <td>1 Month</td>\n",
       "    </tr>\n",
       "    <tr>\n",
       "      <th>2497</th>\n",
       "      <td>2498</td>\n",
       "      <td>Standard</td>\n",
       "      <td>12</td>\n",
       "      <td>09-08-22</td>\n",
       "      <td>15-07-23</td>\n",
       "      <td>United States</td>\n",
       "      <td>38</td>\n",
       "      <td>Male</td>\n",
       "      <td>Laptop</td>\n",
       "      <td>1 Month</td>\n",
       "    </tr>\n",
       "    <tr>\n",
       "      <th>2498</th>\n",
       "      <td>2499</td>\n",
       "      <td>Standard</td>\n",
       "      <td>13</td>\n",
       "      <td>12-08-22</td>\n",
       "      <td>12-07-23</td>\n",
       "      <td>Canada</td>\n",
       "      <td>48</td>\n",
       "      <td>Female</td>\n",
       "      <td>Tablet</td>\n",
       "      <td>1 Month</td>\n",
       "    </tr>\n",
       "    <tr>\n",
       "      <th>2499</th>\n",
       "      <td>2500</td>\n",
       "      <td>Basic</td>\n",
       "      <td>15</td>\n",
       "      <td>13-08-22</td>\n",
       "      <td>12-07-23</td>\n",
       "      <td>United States</td>\n",
       "      <td>35</td>\n",
       "      <td>Female</td>\n",
       "      <td>Smart TV</td>\n",
       "      <td>1 Month</td>\n",
       "    </tr>\n",
       "  </tbody>\n",
       "</table>\n",
       "<p>2500 rows × 10 columns</p>\n",
       "</div>"
      ],
      "text/plain": [
       "      User ID Subscription Type  Monthly Revenue Join Date Last Payment Date  \\\n",
       "0           1             Basic               10  15-01-22          10-06-23   \n",
       "1           2           Premium               15  05-09-21          22-06-23   \n",
       "2           3          Standard               12  28-02-23          27-06-23   \n",
       "3           4          Standard               12  10-07-22          26-06-23   \n",
       "4           5             Basic               10  01-05-23          28-06-23   \n",
       "...       ...               ...              ...       ...               ...   \n",
       "2495     2496           Premium               14  25-07-22          12-07-23   \n",
       "2496     2497             Basic               15  04-08-22          14-07-23   \n",
       "2497     2498          Standard               12  09-08-22          15-07-23   \n",
       "2498     2499          Standard               13  12-08-22          12-07-23   \n",
       "2499     2500             Basic               15  13-08-22          12-07-23   \n",
       "\n",
       "             Country  Age  Gender      Device Plan Duration  \n",
       "0      United States   28    Male  Smartphone       1 Month  \n",
       "1             Canada   35  Female      Tablet       1 Month  \n",
       "2     United Kingdom   42    Male    Smart TV       1 Month  \n",
       "3          Australia   51  Female      Laptop       1 Month  \n",
       "4            Germany   33    Male  Smartphone       1 Month  \n",
       "...              ...  ...     ...         ...           ...  \n",
       "2495           Spain   28  Female    Smart TV       1 Month  \n",
       "2496           Spain   33  Female    Smart TV       1 Month  \n",
       "2497   United States   38    Male      Laptop       1 Month  \n",
       "2498          Canada   48  Female      Tablet       1 Month  \n",
       "2499   United States   35  Female    Smart TV       1 Month  \n",
       "\n",
       "[2500 rows x 10 columns]"
      ]
     },
     "execution_count": 5,
     "metadata": {},
     "output_type": "execute_result"
    }
   ],
   "source": [
    "# importando os dados do arquivo csv Netflix\n",
    "df_netflix = pd.read_csv('netflix.csv')\n",
    "df_netflix"
   ]
  },
  {
   "cell_type": "markdown",
   "metadata": {},
   "source": [
    "\n",
    "**1) Quantos usuários utilizam a Netflix pelo Tablet?**\n",
    "\n",
    "**Resposta: 633 usuários**"
   ]
  },
  {
   "cell_type": "code",
   "execution_count": 9,
   "metadata": {},
   "outputs": [
    {
     "name": "stdout",
     "output_type": "stream",
     "text": [
      "Número de usuários que utilizam a Netflix pelo Tablet: 633\n"
     ]
    }
   ],
   "source": [
    "# Contagem dos usuários que utilizam a Netflix pelo Tablet\n",
    "tablet_users_count = df_netflix[df_netflix['Device'] == 'Tablet'].shape[0]\n",
    "\n",
    "# A função print imprimi os resultados \n",
    "print(f\"Número de usuários que utilizam a Netflix pelo Tablet: {tablet_users_count}\")\n"
   ]
  },
  {
   "cell_type": "markdown",
   "metadata": {},
   "source": [
    "\n",
    "**2) Qual é a representatividade (em %) do sistema operacional(device) mais utilizado para assistir Netflix?**\n",
    "\n",
    "**Resposta: Mais utilizado é o laptop com 633 e sua representatividade é 25,44 %**"
   ]
  },
  {
   "cell_type": "code",
   "execution_count": 8,
   "metadata": {},
   "outputs": [
    {
     "name": "stdout",
     "output_type": "stream",
     "text": [
      "O dispositivo mais utilizado é: Laptop\n",
      "Quantidade de uso: 636\n",
      "Representatividade: 25.44%\n"
     ]
    }
   ],
   "source": [
    "# Contando a frequência de cada dispositivo\n",
    "device_count = df_netflix['Device'].value_counts()\n",
    "\n",
    "# Quantidade do dispositivo mais utilizado e sua frequência\n",
    "most_used_device = device_count.idxmax()  \n",
    "most_used_device_count = device_count.max()  \n",
    "\n",
    "# Totalizando o dispositivo mais usado\n",
    "total_devices = device_count.sum()\n",
    "\n",
    "# Cálculo de porcentagem\n",
    "representativity = (most_used_device_count / total_devices) * 100\n",
    "\n",
    "# A função print imprimi os resultados \n",
    "print(f\"O dispositivo mais utilizado é: {most_used_device}\")\n",
    "print(f\"Quantidade de uso: {most_used_device_count}\")\n",
    "print(f\"Representatividade: {representativity:.2f}%\")\n"
   ]
  },
  {
   "cell_type": "markdown",
   "metadata": {},
   "source": [
    "**3) Crie visualizações que responda as seguintes perguntas:**\n",
    "   \n",
    "**a) Qual é o sistema operacional(device) mais usado para cada faixa etária?**\n",
    "\n",
    "**Resposta: 25-34 - Tablet - 213**\n",
    "          **35-44 - Laptop - 280**\n",
    "          **45-54 - Tablet - 176**\n",
    "\n",
    "**b) Existe algum padrão? O tipo de aparelho muda de acordo com o grupo de idade?**\n",
    "\n",
    "**c) No Brasil, qual é o sistema operacional mais utilizado?**\n",
    "\n",
    "resposta O sistema operacional mais utilizado no Brasil é: Smartphone\n",
    "\n"
   ]
  },
  {
   "cell_type": "code",
   "execution_count": 10,
   "metadata": {},
   "outputs": [],
   "source": [
    "# Definindo as faixas etárias\n",
    "def age_group(age):\n",
    "    if age < 18:\n",
    "        return 'Menos de 18'\n",
    "    elif age <= 24:\n",
    "        return '18-24'\n",
    "    elif age <= 34:\n",
    "        return '25-34'\n",
    "    elif age <= 44:\n",
    "        return '35-44'\n",
    "    elif age <= 54:\n",
    "        return '45-54'\n",
    "    elif age <= 64:\n",
    "        return '55-64'\n",
    "    else:\n",
    "        return '65 ou mais'\n",
    "\n",
    "\n"
   ]
  },
  {
   "cell_type": "code",
   "execution_count": 12,
   "metadata": {},
   "outputs": [],
   "source": [
    "# Filtrando os dados \n",
    "df_netflix['Age Group'] = df_netflix['Age'].apply(age_group)"
   ]
  },
  {
   "cell_type": "code",
   "execution_count": 13,
   "metadata": {},
   "outputs": [],
   "source": [
    "#Agrupamento para identificar a faixa estária e o uso de cada dispositivo\n",
    "device_by_age_group = df_netflix.groupby(['Age Group', 'Device']).size().reset_index(name='Count')"
   ]
  },
  {
   "cell_type": "code",
   "execution_count": 14,
   "metadata": {},
   "outputs": [],
   "source": [
    "# Esse código indica o dispositivo mais usado (por faixa etária)\n",
    "most_used_device_by_age = device_by_age_group.loc[device_by_age_group.groupby('Age Group')['Count'].idxmax()]"
   ]
  },
  {
   "cell_type": "code",
   "execution_count": 15,
   "metadata": {},
   "outputs": [
    {
     "name": "stdout",
     "output_type": "stream",
     "text": [
      "   Age Group  Device  Count\n",
      "3      25-34  Tablet    213\n",
      "4      35-44  Laptop    280\n",
      "11     45-54  Tablet    176\n"
     ]
    }
   ],
   "source": [
    "# A função print imprimi os resultados \n",
    "print(most_used_device_by_age)"
   ]
  },
  {
   "cell_type": "code",
   "execution_count": 16,
   "metadata": {},
   "outputs": [
    {
     "name": "stdout",
     "output_type": "stream",
     "text": [
      "O sistema operacional mais utilizado no Brasil é: Smartphone\n"
     ]
    }
   ],
   "source": [
    "# Filtrando os dados (apenas os usuários do Brasil)\n",
    "df_brazil = df_netflix[df_netflix['Country'] == 'Brazil']\n",
    "\n",
    "#Verificando cada dispositivo no Brasil\n",
    "device_count_brazil = df_brazil['Device'].value_counts()\n",
    "\n",
    "#Informando o dispositivo mais utilizado no Brasil\n",
    "most_used_device_brazil = device_count_brazil.idxmax()\n",
    "\n",
    "#A função print imprimi os resultados \n",
    "print(\"O sistema operacional mais utilizado no Brasil é:\", most_used_device_brazil)\n"
   ]
  }
 ],
 "metadata": {
  "kernelspec": {
   "display_name": "Python 3",
   "language": "python",
   "name": "python3"
  },
  "language_info": {
   "codemirror_mode": {
    "name": "ipython",
    "version": 3
   },
   "file_extension": ".py",
   "mimetype": "text/x-python",
   "name": "python",
   "nbconvert_exporter": "python",
   "pygments_lexer": "ipython3",
   "version": "3.11.4"
  }
 },
 "nbformat": 4,
 "nbformat_minor": 2
}
