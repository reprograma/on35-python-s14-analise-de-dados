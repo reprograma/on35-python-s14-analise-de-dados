{
 "cells": [
  {
   "cell_type": "code",
   "execution_count": 1,
   "metadata": {},
   "outputs": [],
   "source": [
    "import pandas as pd\n",
    "import numpy as np\n",
    "import matplotlib.pyplot as plt"
   ]
  },
  {
   "cell_type": "code",
   "execution_count": 2,
   "metadata": {},
   "outputs": [],
   "source": [
    "df = pd.read_csv('netflix.csv', delimiter=';', skiprows=8, encoding='latin1')"
   ]
  },
  {
   "cell_type": "code",
   "execution_count": 3,
   "metadata": {},
   "outputs": [
    {
     "data": {
      "text/html": [
       "<div>\n",
       "<style scoped>\n",
       "    .dataframe tbody tr th:only-of-type {\n",
       "        vertical-align: middle;\n",
       "    }\n",
       "\n",
       "    .dataframe tbody tr th {\n",
       "        vertical-align: top;\n",
       "    }\n",
       "\n",
       "    .dataframe thead th {\n",
       "        text-align: right;\n",
       "    }\n",
       "</style>\n",
       "<table border=\"1\" class=\"dataframe\">\n",
       "  <thead>\n",
       "    <tr style=\"text-align: right;\">\n",
       "      <th></th>\n",
       "      <th>8,Basic,10,02-04-23,24-06-23,Mexico,39,Female,Laptop,1 Month</th>\n",
       "    </tr>\n",
       "  </thead>\n",
       "  <tbody>\n",
       "    <tr>\n",
       "      <th>0</th>\n",
       "      <td>9,Standard,12,20-10-22,23-06-23,Spain,37,Male,...</td>\n",
       "    </tr>\n",
       "    <tr>\n",
       "      <th>1</th>\n",
       "      <td>10,Premium,15,07-01-23,22-06-23,Italy,44,Femal...</td>\n",
       "    </tr>\n",
       "    <tr>\n",
       "      <th>2</th>\n",
       "      <td>11,Basic,10,16-05-22,22-06-23,United States,31...</td>\n",
       "    </tr>\n",
       "    <tr>\n",
       "      <th>3</th>\n",
       "      <td>12,Premium,15,23-03-23,28-06-23,Canada,45,Male...</td>\n",
       "    </tr>\n",
       "    <tr>\n",
       "      <th>4</th>\n",
       "      <td>13,Standard,12,30-11-21,27-06-23,United Kingdo...</td>\n",
       "    </tr>\n",
       "  </tbody>\n",
       "</table>\n",
       "</div>"
      ],
      "text/plain": [
       "  8,Basic,10,02-04-23,24-06-23,Mexico,39,Female,Laptop,1 Month\n",
       "0  9,Standard,12,20-10-22,23-06-23,Spain,37,Male,...          \n",
       "1  10,Premium,15,07-01-23,22-06-23,Italy,44,Femal...          \n",
       "2  11,Basic,10,16-05-22,22-06-23,United States,31...          \n",
       "3  12,Premium,15,23-03-23,28-06-23,Canada,45,Male...          \n",
       "4  13,Standard,12,30-11-21,27-06-23,United Kingdo...          "
      ]
     },
     "execution_count": 3,
     "metadata": {},
     "output_type": "execute_result"
    }
   ],
   "source": []
  },
  {
   "cell_type": "markdown",
   "metadata": {},
   "source": [
    "# Hora de praticar\n",
    "\n",
    "Agora é sua vez de colocar a mão na massa! Em grupos, respondam as seguintes perguntas sobre os dados:\n",
    "\n",
    "1. Quantos usuários utilizam a Netflix pelo Tablet? \n",
    "R: 629\n",
    "2. Qual é a representatividade (em %) do sistema operacional mais utilizado para assistir Netflix? \n",
    "R: Laptop-0.254121\n",
    "3. Crie visualizações que responda as seguintes perguntas:\n",
    "    1. Qual é o sistema operacional(Device) mais usado para cada faixa etária? Existe algum padrão? O tipo de aparelho muda de acordo com o grupo de idade?\n",
    "    2. No Brasil, qual é o sistema operacional mais utilizado?"
   ]
  },
  {
   "cell_type": "code",
   "execution_count": null,
   "metadata": {},
   "outputs": [],
   "source": [
    "#1. Quantos usuários utilizam a Netflix pelo Tablet?\n",
    "df_netflix[\"Device\"].value_counts()"
   ]
  },
  {
   "cell_type": "code",
   "execution_count": null,
   "metadata": {},
   "outputs": [],
   "source": [
    "#2. Qual é a representatividade (em %) do sistema operacional mais utilizado para assistir Netflix?\n",
    "df_netflix[\"Device\"].value_counts(normalize=True)"
   ]
  },
  {
   "cell_type": "code",
   "execution_count": null,
   "metadata": {},
   "outputs": [],
   "source": [
    "# definir tamanho da figura\n",
    "plt.figure(figsize=(8, 6))\n",
    "\n",
    "# instanciar o tipo de plotagem, no caso, um countplot usando x como as faixas etárias\n",
    "sns.countplot(data = df_netflix, x = 'grupo_idade', hue = 'Device')\n",
    "\n",
    "# definir texto do título e eixos x e y\n",
    "plt.title('Sistema operacional mais utilizado em cada faixa etaria ')\n",
    "plt.xlabel('Faixa etária')  \n",
    "plt.ylabel('Contagem')\n",
    "plt.show()"
   ]
  }
 ],
 "metadata": {
  "kernelspec": {
   "display_name": "Python 3",
   "language": "python",
   "name": "python3"
  },
  "language_info": {
   "codemirror_mode": {
    "name": "ipython",
    "version": 3
   },
   "file_extension": ".py",
   "mimetype": "text/x-python",
   "name": "python",
   "nbconvert_exporter": "python",
   "pygments_lexer": "ipython3",
   "version": "3.12.3"
  }
 },
 "nbformat": 4,
 "nbformat_minor": 2
}
